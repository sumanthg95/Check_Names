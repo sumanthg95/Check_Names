{
  "nbformat": 4,
  "nbformat_minor": 0,
  "metadata": {
    "colab": {
      "name": "AML_hw4_Part2_random_forest.ipynb",
      "provenance": [],
      "collapsed_sections": [
        "LzuMOVXH1PQm"
      ]
    },
    "kernelspec": {
      "name": "python3",
      "display_name": "Python 3"
    },
    "language_info": {
      "name": "python"
    }
  },
  "cells": [
    {
      "cell_type": "markdown",
      "metadata": {
        "id": "Q9BmU6-O4o21"
      },
      "source": [
        "#Question 2 "
      ]
    },
    {
      "cell_type": "markdown",
      "metadata": {
        "id": "04_4Esp0lCr9"
      },
      "source": [
        "##Random Forest Classifier "
      ]
    },
    {
      "cell_type": "markdown",
      "metadata": {
        "id": "oKLigQEvjIsN"
      },
      "source": [
        "Import the MNIST data "
      ]
    },
    {
      "cell_type": "code",
      "metadata": {
        "id": "M5xP9aX-4ry9"
      },
      "source": [
        "from sklearn.datasets import fetch_openml\n",
        "mnist=fetch_openml(\"mnist_784\",version=1)"
      ],
      "execution_count": 1,
      "outputs": []
    },
    {
      "cell_type": "code",
      "metadata": {
        "id": "QGMsPGTE4ry_"
      },
      "source": [
        "import numpy as np\n",
        "X,y=mnist[\"data\"],mnist[\"target\"]\n",
        "y=y.astype(int)\n",
        "X=((X/255.)-.5)*2"
      ],
      "execution_count": 2,
      "outputs": []
    },
    {
      "cell_type": "code",
      "metadata": {
        "id": "oYBkPlBc4rzA"
      },
      "source": [
        "X_train, X_test, y_train, y_test = X[:60000], X[60000:], y[:60000], y[60000:] #train_images, val_images, train_labels, val_labels"
      ],
      "execution_count": 3,
      "outputs": []
    },
    {
      "cell_type": "markdown",
      "metadata": {
        "id": "QskQe1R7i7fE"
      },
      "source": [
        "Using 60,000 images for the training set\n",
        "\n",
        "Train data of 60,000 images and Test data of 10,000 images "
      ]
    },
    {
      "cell_type": "code",
      "metadata": {
        "colab": {
          "base_uri": "https://localhost:8080/"
        },
        "id": "XM7va8JV4rzB",
        "outputId": "fa2ceee2-1e03-43c8-e485-8a3a7b9eccb3"
      },
      "source": [
        "print(\"Train data Shape\",X_train.shape)\n",
        "print(\"Test data Shape\",X_test.shape)"
      ],
      "execution_count": 4,
      "outputs": [
        {
          "output_type": "stream",
          "text": [
            "Train data Shape (60000, 784)\n",
            "Test data Shape (10000, 784)\n"
          ],
          "name": "stdout"
        }
      ]
    },
    {
      "cell_type": "markdown",
      "metadata": {
        "id": "WMuo9MeajUPm"
      },
      "source": [
        "####Train the RandomForestClassifier Model\n",
        "\n",
        "Parameters: n_estimators = 100 and max_depth = none"
      ]
    },
    {
      "cell_type": "code",
      "metadata": {
        "colab": {
          "base_uri": "https://localhost:8080/"
        },
        "id": "ttyQSMyE4rzF",
        "outputId": "888d6b96-98b0-4dc7-e92c-3d0afc70ebce"
      },
      "source": [
        "from sklearn.ensemble import RandomForestClassifier\n",
        "import time \n",
        "start_time=time.time() #start time\n",
        "\n",
        "rnd_clf=RandomForestClassifier(n_estimators=100,max_depth=None)\n",
        "rnd_clf.fit(X_train,y_train)\n",
        "print(\"---%s seconds---\" % round((time.time()-start_time)))\n",
        "run_time=(round(time.time()-start_time)) #model train time"
      ],
      "execution_count": 5,
      "outputs": [
        {
          "output_type": "stream",
          "text": [
            "---52 seconds---\n"
          ],
          "name": "stdout"
        }
      ]
    },
    {
      "cell_type": "markdown",
      "metadata": {
        "id": "gkNl7YiIko86"
      },
      "source": [
        "####Calculating the Accuracy and the Confusion Matrix "
      ]
    },
    {
      "cell_type": "code",
      "metadata": {
        "id": "MLX5vLsT4rzI"
      },
      "source": [
        "from sklearn.metrics import accuracy_score\n",
        "import matplotlib.pyplot as plt\n",
        "from sklearn.metrics import plot_confusion_matrix\n",
        "\n",
        "y_pred=rnd_clf.predict(X_test)\n",
        "accuracy=accuracy_score(y_test,y_pred) "
      ],
      "execution_count": 6,
      "outputs": []
    },
    {
      "cell_type": "code",
      "metadata": {
        "colab": {
          "base_uri": "https://localhost:8080/",
          "height": 366
        },
        "id": "jQbuf2XL4rzJ",
        "outputId": "446d5bb4-8101-411c-b2bb-46d7f66813ba"
      },
      "source": [
        "print(\"Random Forest without dimensionality reduction took \",run_time,\" seconds\\n\")\n",
        "print(\"Accuracy of Random Forest - \",accuracy*100,\"%\")\n",
        "print(\"----------------------------------- \\n The Confusion Matrix\")\n",
        "plot_confusion_matrix(rnd_clf,X_test,y_test,values_format='d')\n",
        "plt.show()"
      ],
      "execution_count": 7,
      "outputs": [
        {
          "output_type": "stream",
          "text": [
            "Random Forest without dimensionality reduction took  52  seconds\n",
            "\n",
            "Accuracy of Random Forest -  96.99 %\n",
            "----------------------------------- \n",
            " The Confusion Matrix\n"
          ],
          "name": "stdout"
        },
        {
          "output_type": "display_data",
          "data": {
            "image/png": "[encoded data removed]",
            "text/plain": [
              "<Figure size 432x288 with 2 Axes>"
            ]
          },
          "metadata": {
            "tags": [],
            "needs_background": "light"
          }
        }
      ]
    },
    {
      "cell_type": "markdown",
      "metadata": {
        "id": "LzuMOVXH1PQm"
      },
      "source": [
        "##Random Forest with PCA of explained variance of **95%**  "
      ]
    },
    {
      "cell_type": "code",
      "metadata": {
        "id": "0tdgAW8Hgcs_"
      },
      "source": [
        "from sklearn.decomposition import PCA\n",
        "pca=PCA(n_components=0.95)\n",
        "X_pca=pca.fit_transform(X)"
      ],
      "execution_count": 8,
      "outputs": []
    },
    {
      "cell_type": "markdown",
      "metadata": {
        "id": "YRuermMYzj3U"
      },
      "source": [
        "In this case by keeping the n_components to 0.95 we are indicating the ratio of the dataset's variance that we wish to preserve."
      ]
    },
    {
      "cell_type": "code",
      "metadata": {
        "id": "Y5Wd11oSgjcO"
      },
      "source": [
        "X_train, X_test, y_train, y_test = X_pca[:60000], X_pca[60000:], y[:60000], y[60000:] #train_images, val_images, train_labels, val_labels"
      ],
      "execution_count": 9,
      "outputs": []
    },
    {
      "cell_type": "code",
      "metadata": {
        "colab": {
          "base_uri": "https://localhost:8080/"
        },
        "id": "x_T6EGY60u14",
        "outputId": "0d013f73-cc8c-4bd7-8572-680fb9ef7ee7"
      },
      "source": [
        "X_train.shape"
      ],
      "execution_count": 10,
      "outputs": [
        {
          "output_type": "execute_result",
          "data": {
            "text/plain": [
              "(60000, 154)"
            ]
          },
          "metadata": {
            "tags": []
          },
          "execution_count": 10
        }
      ]
    },
    {
      "cell_type": "markdown",
      "metadata": {
        "id": "pWAwZk6F01XR"
      },
      "source": [
        "While most of the variance is preserved (**95%**), we can see that the feature size has reduced from the original size of **784** to **154** thus reducing the dimensionality of the train dataset and the dataset is less than **20%** of it's original size."
      ]
    },
    {
      "cell_type": "markdown",
      "metadata": {
        "id": "j6F-30lwnFbV"
      },
      "source": [
        "####Train the RandomForestClassifier Model\n",
        "\n",
        "Parameters: n_estimators = 100 and max_depth = none"
      ]
    },
    {
      "cell_type": "code",
      "metadata": {
        "colab": {
          "base_uri": "https://localhost:8080/"
        },
        "id": "53Gayq0Aezz-",
        "outputId": "f3205121-82a1-4a8c-8088-f778e019aa52"
      },
      "source": [
        "from sklearn.ensemble import RandomForestClassifier\n",
        "import time \n",
        "start_time=time.time()\n",
        "\n",
        "rnd_clf=RandomForestClassifier(n_estimators=100,max_depth=None)\n",
        "rnd_clf.fit(X_train,y_train)\n",
        "print(\"---%s seconds---\" % round((time.time()-start_time)))\n",
        "run_time=(round(time.time()-start_time))"
      ],
      "execution_count": 11,
      "outputs": [
        {
          "output_type": "stream",
          "text": [
            "---122 seconds---\n"
          ],
          "name": "stdout"
        }
      ]
    },
    {
      "cell_type": "markdown",
      "metadata": {
        "id": "r9uIhphUnNN2"
      },
      "source": [
        "####Calculating the Accuracy and the Confusion Matrix "
      ]
    },
    {
      "cell_type": "code",
      "metadata": {
        "id": "-lAtgy9Uez0Y"
      },
      "source": [
        "from sklearn.metrics import accuracy_score\n",
        "import matplotlib.pyplot as plt\n",
        "from sklearn.metrics import plot_confusion_matrix\n",
        "\n",
        "y_pred=rnd_clf.predict(X_test)\n",
        "accuracy=accuracy_score(y_test,y_pred) "
      ],
      "execution_count": 12,
      "outputs": []
    },
    {
      "cell_type": "code",
      "metadata": {
        "colab": {
          "base_uri": "https://localhost:8080/",
          "height": 366
        },
        "id": "2okuAWvBez0Z",
        "outputId": "5f65bc9f-2d2f-46eb-a94a-9b2d0afa0ac1"
      },
      "source": [
        "print(\"Random Forest with PCA of explained variance of 95% took\",run_time,\"seconds \\n\")\n",
        "print(\"Accuracy of Random Forest with PCA of explained variance of 95% took - \",accuracy*100,\"%\")\n",
        "print(\"----------------------------------- \\n The Confusion Matrix\")\n",
        "plot_confusion_matrix(rnd_clf,X_test,y_test,values_format='d')\n",
        "plt.show()"
      ],
      "execution_count": 13,
      "outputs": [
        {
          "output_type": "stream",
          "text": [
            "Random Forest with PCA of explained variance of 95% took 122 seconds \n",
            "\n",
            "Accuracy of Random Forest with PCA of explained variance of 95% took -  94.78 %\n",
            "----------------------------------- \n",
            " The Confusion Matrix\n"
          ],
          "name": "stdout"
        },
        {
          "output_type": "display_data",
          "data": {
            "image/png": "[encoded data removed]",
            "text/plain": [
              "<Figure size 432x288 with 2 Axes>"
            ]
          },
          "metadata": {
            "tags": [],
            "needs_background": "light"
          }
        }
      ]
    },
    {
      "cell_type": "markdown",
      "metadata": {
        "id": "2GaOsnXHqx5l"
      },
      "source": [
        "Random Forest Classifier is faster before the dimensionality reduction using PCA.\n",
        "\n",
        "The reason here could be that though the dimensionality of the input features is smaller, the features could be less representative in this case and it turns out the model could be more complicated hence it might be taking longer.\n",
        "\n",
        "The **Performance** is equally good too and the model's accuracy is almost similar to the accuracy before performing the dimensionality reduction. This is because we have kept 95% of the variance and hence have not lost useful information while reducing the dimensionality."
      ]
    },
    {
      "cell_type": "markdown",
      "metadata": {
        "id": "HZVtOax_j_V6"
      },
      "source": [
        "##Random Forest with PCA of explained variance of **90%**"
      ]
    },
    {
      "cell_type": "code",
      "metadata": {
        "id": "dt_KhqIPxQAy"
      },
      "source": [
        "pca=PCA(n_components=0.90)\n",
        "X_pca=pca.fit_transform(X)"
      ],
      "execution_count": 14,
      "outputs": []
    },
    {
      "cell_type": "code",
      "metadata": {
        "id": "Tke2drL-xQAz"
      },
      "source": [
        "X_train, X_test, y_train, y_test = X_pca[:60000], X_pca[60000:], y[:60000], y[60000:] #train_images, val_images, train_labels, val_labels"
      ],
      "execution_count": 15,
      "outputs": []
    },
    {
      "cell_type": "code",
      "metadata": {
        "colab": {
          "base_uri": "https://localhost:8080/"
        },
        "id": "jycW39fA10uf",
        "outputId": "3cf015e9-0ec4-4a34-df11-3789ec7ef103"
      },
      "source": [
        "X_train.shape"
      ],
      "execution_count": 16,
      "outputs": [
        {
          "output_type": "execute_result",
          "data": {
            "text/plain": [
              "(60000, 87)"
            ]
          },
          "metadata": {
            "tags": []
          },
          "execution_count": 16
        }
      ]
    },
    {
      "cell_type": "markdown",
      "metadata": {
        "id": "h3SedooQ10ui"
      },
      "source": [
        "While most of the variance is preserved (**90%**), we can see that the feature size has reduced from the original size of **784** to **87** thus reducing the dimensionality of the train dataset and the dataset is less than **11%** of it's original size."
      ]
    },
    {
      "cell_type": "markdown",
      "metadata": {
        "id": "jgQc4z28nGo4"
      },
      "source": [
        "####Train the RandomForestClassifier Model\n",
        "\n",
        "Parameters: n_estimators = 100 and max_depth = none"
      ]
    },
    {
      "cell_type": "code",
      "metadata": {
        "colab": {
          "base_uri": "https://localhost:8080/"
        },
        "id": "W9u7ED3Pe7Bp",
        "outputId": "42e9060a-70fa-486a-d28f-c4145dcb2d1b"
      },
      "source": [
        "from sklearn.ensemble import RandomForestClassifier\n",
        "import time \n",
        "start_time=time.time()\n",
        "\n",
        "rnd_clf=RandomForestClassifier(n_estimators=100,max_depth=None)\n",
        "rnd_clf.fit(X_train,y_train)\n",
        "print(\"---%s seconds---\" % round((time.time()-start_time)))\n",
        "run_time=(round(time.time()-start_time))"
      ],
      "execution_count": 17,
      "outputs": [
        {
          "output_type": "stream",
          "text": [
            "---91 seconds---\n"
          ],
          "name": "stdout"
        }
      ]
    },
    {
      "cell_type": "markdown",
      "metadata": {
        "id": "HNnklTzinOtV"
      },
      "source": [
        "####Calculating the Accuracy and the Confusion Matrix "
      ]
    },
    {
      "cell_type": "code",
      "metadata": {
        "id": "7dzzfv_Qe7Bs"
      },
      "source": [
        "from sklearn.metrics import accuracy_score\n",
        "import matplotlib.pyplot as plt\n",
        "from sklearn.metrics import plot_confusion_matrix\n",
        "\n",
        "y_pred=rnd_clf.predict(X_test)\n",
        "accuracy=accuracy_score(y_test,y_pred) "
      ],
      "execution_count": 18,
      "outputs": []
    },
    {
      "cell_type": "code",
      "metadata": {
        "colab": {
          "base_uri": "https://localhost:8080/",
          "height": 366
        },
        "id": "7oZ2iMGxe7Bu",
        "outputId": "60b763d1-60fa-4826-9baf-2b4f30bdd7f5"
      },
      "source": [
        "print(\"Random Forest with PCA of explained variance of 90% took \",run_time,\"seconds \\n\")\n",
        "print(\"Accuracy of Random Forest with PCA of explained variance of 90% took - \",accuracy*100,\"%\")\n",
        "print(\"----------------------------------- \\n The Confusion Matrix\")\n",
        "plot_confusion_matrix(rnd_clf,X_test,y_test,values_format='d')\n",
        "plt.show()"
      ],
      "execution_count": 19,
      "outputs": [
        {
          "output_type": "stream",
          "text": [
            "Random Forest with PCA of explained variance of 90% took  91 seconds \n",
            "\n",
            "Accuracy of Random Forest with PCA of explained variance of 90% took -  95.38 %\n",
            "----------------------------------- \n",
            " The Confusion Matrix\n"
          ],
          "name": "stdout"
        },
        {
          "output_type": "display_data",
          "data": {
            "image/png": "[encoded data removed]",
            "text/plain": [
              "<Figure size 432x288 with 2 Axes>"
            ]
          },
          "metadata": {
            "tags": [],
            "needs_background": "light"
          }
        }
      ]
    },
    {
      "cell_type": "markdown",
      "metadata": {
        "id": "ZnCavyjmt7ek"
      },
      "source": [
        "With the explained variance for the PCA decreased to **90%**, the time taken to train the Random Forest model reduces as well. From **122** seconds to **91** seconds we can see that with the reduction in the dimensionality when compared to the 95% variance PCA, the time taken to train the model is less as well. \n",
        "\n",
        "The **Performance** is equally good too and the model's accuracy is almost similar to the accuracy before performing the dimensionality reduction. This is because we have kept 90% of the variance and hence have not lost useful information while reducing the dimensionality."
      ]
    },
    {
      "cell_type": "markdown",
      "metadata": {
        "id": "9SU7hFDDkLy2"
      },
      "source": [
        "##Random Forest with PCA of explained variance of **85%**"
      ]
    },
    {
      "cell_type": "code",
      "metadata": {
        "id": "DhMELGi8x1II"
      },
      "source": [
        "pca=PCA(n_components=0.85)\n",
        "X_pca=pca.fit_transform(X)"
      ],
      "execution_count": 20,
      "outputs": []
    },
    {
      "cell_type": "code",
      "metadata": {
        "id": "uOKLOVXPx1Io"
      },
      "source": [
        "X_train, X_test, y_train, y_test = X_pca[:60000], X_pca[60000:], y[:60000], y[60000:] #train_images, val_images, train_labels, val_labels"
      ],
      "execution_count": 21,
      "outputs": []
    },
    {
      "cell_type": "code",
      "metadata": {
        "colab": {
          "base_uri": "https://localhost:8080/"
        },
        "id": "ej9b-bB412Tr",
        "outputId": "c713d452-c8f8-48b6-976e-5f95bf34d53c"
      },
      "source": [
        "X_train.shape"
      ],
      "execution_count": 22,
      "outputs": [
        {
          "output_type": "execute_result",
          "data": {
            "text/plain": [
              "(60000, 59)"
            ]
          },
          "metadata": {
            "tags": []
          },
          "execution_count": 22
        }
      ]
    },
    {
      "cell_type": "markdown",
      "metadata": {
        "id": "Dh3lPS3Q12Ts"
      },
      "source": [
        "While most of the variance is preserved (**85%**), we can see that the feature size has reduced from the original size of **784** to **59** thus reducing the dimensionality of the train dataset and the dataset is less than **1%** of it's original size."
      ]
    },
    {
      "cell_type": "markdown",
      "metadata": {
        "id": "2oR4roZonID6"
      },
      "source": [
        "####Train the RandomForestClassifier Model\n",
        "\n",
        "Parameters: n_estimators = 100 and max_depth = none"
      ]
    },
    {
      "cell_type": "code",
      "metadata": {
        "colab": {
          "base_uri": "https://localhost:8080/"
        },
        "id": "ZcLY_cdae_oS",
        "outputId": "2120f034-d7df-4cb7-d832-f4578027946f"
      },
      "source": [
        "from sklearn.ensemble import RandomForestClassifier\n",
        "import time \n",
        "start_time=time.time()\n",
        "\n",
        "rnd_clf=RandomForestClassifier(n_estimators=100,max_depth=None)\n",
        "rnd_clf.fit(X_train,y_train)\n",
        "print(\"---%s seconds---\" % round((time.time()-start_time)))\n",
        "run_time=(round(time.time()-start_time))"
      ],
      "execution_count": 23,
      "outputs": [
        {
          "output_type": "stream",
          "text": [
            "---72 seconds---\n"
          ],
          "name": "stdout"
        }
      ]
    },
    {
      "cell_type": "markdown",
      "metadata": {
        "id": "uzlracv4nQAD"
      },
      "source": [
        "####Calculating the Accuracy and the Confusion Matrix "
      ]
    },
    {
      "cell_type": "code",
      "metadata": {
        "id": "TvGqrXi_e_oU"
      },
      "source": [
        "from sklearn.metrics import accuracy_score\n",
        "from sklearn.metrics import plot_confusion_matrix\n",
        "import matplotlib.pyplot as plt\n",
        "\n",
        "y_pred=rnd_clf.predict(X_test)\n",
        "accuracy=accuracy_score(y_test,y_pred) "
      ],
      "execution_count": 24,
      "outputs": []
    },
    {
      "cell_type": "code",
      "metadata": {
        "colab": {
          "base_uri": "https://localhost:8080/",
          "height": 366
        },
        "id": "NCBo0_6ae_oV",
        "outputId": "b2660a65-7ec5-489b-8623-3711e2cb2391"
      },
      "source": [
        "print(\"Random Forest with PCA of explained variance of 85% took\",run_time,\"seconds\\n\")\n",
        "print(\"Accuracy of Random Forest with PCA of explained variance of 85% took- \",accuracy*100,\"%\")\n",
        "print(\"----------------------------------- \\n The Confusion Matrix\")\n",
        "plot_confusion_matrix(rnd_clf,X_test,y_test,values_format='d')\n",
        "plt.show()"
      ],
      "execution_count": 25,
      "outputs": [
        {
          "output_type": "stream",
          "text": [
            "Random Forest with PCA of explained variance of 85% took 72 seconds\n",
            "\n",
            "Accuracy of Random Forest with PCA of explained variance of 85% took-  95.26 %\n",
            "----------------------------------- \n",
            " The Confusion Matrix\n"
          ],
          "name": "stdout"
        },
        {
          "output_type": "display_data",
          "data": {
            "image/png": "[encoded data removed]",
            "text/plain": [
              "<Figure size 432x288 with 2 Axes>"
            ]
          },
          "metadata": {
            "tags": [],
            "needs_background": "light"
          }
        }
      ]
    },
    {
      "cell_type": "markdown",
      "metadata": {
        "id": "t64ZDZiD7Ri1"
      },
      "source": [
        "With the explained variance for the PCA decreased to **85%**, the time taken to train the Random Forest model reduces as well. From **91** seconds to **72** seconds we can see that with the reduction in the dimensionality when compared to the 90% variance PCA, the time taken to train the model is less as well. \n",
        "\n",
        "The **Performance** is equally good too and the model's accuracy is almost similar to the accuracy before performing the dimensionality reduction. This is because we have kept 85% of the variance and hence have not lost useful information while reducing the dimensionality."
      ]
    }
  ]
}